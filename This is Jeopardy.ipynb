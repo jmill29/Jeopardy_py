{
 "cells": [
  {
   "cell_type": "markdown",
   "metadata": {},
   "source": [
    "# This is Jeopardy!"
   ]
  },
  {
   "cell_type": "markdown",
   "metadata": {},
   "source": [
    "#### Overview"
   ]
  },
  {
   "cell_type": "markdown",
   "metadata": {},
   "source": [
    "This project is slightly different than others you have encountered thus far. Instead of a step-by-step tutorial, this project contains a series of open-ended requirements which describe the project you'll be building. There are many possible ways to correctly fulfill all of these requirements, and you should expect to use the internet, Codecademy, and/or other resources when you encounter a problem that you cannot easily solve."
   ]
  },
  {
   "cell_type": "markdown",
   "metadata": {},
   "source": [
    "#### Project Goals"
   ]
  },
  {
   "cell_type": "markdown",
   "metadata": {},
   "source": [
    "You will work to write several functions that investigate a dataset of _Jeopardy!_ questions and answers. Filter the dataset for topics that you're interested in, compute the average difficulty of those questions, and train to become the next Jeopardy champion!"
   ]
  },
  {
   "cell_type": "markdown",
   "metadata": {},
   "source": [
    "## Prerequisites"
   ]
  },
  {
   "cell_type": "markdown",
   "metadata": {},
   "source": [
    "In order to complete this project, you should have completed the Pandas lessons in the <a href=\"https://www.codecademy.com/learn/paths/analyze-data-with-python\">Analyze Data with Python Skill Path</a>. You can also find those lessons in the <a href=\"https://www.codecademy.com/learn/data-processing-pandas\">Data Analysis with Pandas course</a> or the <a href=\"https://www.codecademy.com/learn/paths/data-science/\">Data Scientist Career Path</a>.\n",
    "\n",
    "Finally, the <a href=\"https://www.codecademy.com/learn/practical-data-cleaning\">Practical Data Cleaning</a> course may also be helpful."
   ]
  },
  {
   "cell_type": "markdown",
   "metadata": {},
   "source": [
    "## Project Requirements"
   ]
  },
  {
   "cell_type": "markdown",
   "metadata": {},
   "source": [
    "1. We've provided a csv file containing data about the game show _Jeopardy!_ in a file named `jeopardy.csv`. Load the data into a DataFrame and investigate its contents. Try to print out specific columns.\n",
    "\n",
    "   Note that in order to make this project as \"real-world\" as possible, we haven't modified the data at all - we're giving it to you exactly how we found it. As a result, this data isn't as \"clean\" as the datasets you normally find on Codecademy. More specifically, there's something odd about the column names. After you figure out the problem with the column names, you may want to rename them to make your life easier for the rest of the project.\n",
    "   \n",
    "   In order to display the full contents of a column, we've added this line of code for you:\n",
    "   \n",
    "   ```py\n",
    "   pd.set_option('display.max_colwidth', None)\n",
    "   ```"
   ]
  },
  {
   "cell_type": "code",
   "execution_count": 1,
   "metadata": {},
   "outputs": [],
   "source": [
    "import pandas as pd\n",
    "pd.set_option('display.max_colwidth', None)\n",
    "jeopardy = pd.read_csv('jeopardy.csv')\n",
    "for col in jeopardy.columns:\n",
    "    jeopardy = jeopardy.rename(columns={col:col.strip()})"
   ]
  },
  {
   "cell_type": "markdown",
   "metadata": {},
   "source": [
    "2. Write a function that filters the dataset for questions that contains all of the words in a list of words. For example, when the list `[\"King\", \"England\"]` was passed to our function, the function returned a DataFrame of 49 rows. Every row had the strings `\"King\"` and `\"England\"` somewhere in its `\" Question\"`.\n",
    "\n",
    "   Test your function by printing out the column containing the question of each row of the dataset."
   ]
  },
  {
   "cell_type": "code",
   "execution_count": 2,
   "metadata": {},
   "outputs": [],
   "source": [
    "'''\n",
    "  Name:         contains_filter_toStr \n",
    "  Type:         Void\n",
    "  Description:  Prints the results of the contains_filter\n",
    "                  to the console.\n",
    "  Parameters:   words  => list of words the dataset is filtered by\n",
    "                numStr => Number of entries that contain the words\n",
    "                          in the given 'words' list.\n",
    "                data   => The dataset in which to filter \n",
    "  Returns:      None\n",
    "'''\n",
    "def contains_filter_toStr(words, numStr, data):\n",
    "    str_o = ''\n",
    "    for i in range(len(words)):\n",
    "        if (i == len(words) - 2):\n",
    "            str_o += '\\'{}\\' and '.format(words[i])\n",
    "        elif (i == len(words) - 1):\n",
    "            str_o += '\\'{}\\''.format(words[i])\n",
    "        else:\n",
    "            str_o += '\\'{}\\', '.format(words[i])\n",
    "    print('Number of Questions that contain the word(s) {}: {}\\n'.format(str_o, numStr))\n",
    "    print('Examples: \\n--------\\n')\n",
    "    for index, row in data.head().iterrows():\n",
    "        print('\\t{}\\n'.format(row['Question']))\n",
    "    print('\\n')"
   ]
  },
  {
   "cell_type": "code",
   "execution_count": 3,
   "metadata": {},
   "outputs": [],
   "source": [
    "'''\n",
    "  Name:         contains_filter\n",
    "  Type:         Pandas Dataframe\n",
    "  Description:  Used to filter the jeopardy dataset's 'Questions'\n",
    "                  column by a given list of words (only returns \n",
    "                  the entries where the question contains the \n",
    "                  words in the given 'words' list).\n",
    "  Parameters:   data  => the dataset in which to filter\n",
    "                words => a list of words to filter the dataset\n",
    "                         by\n",
    "  Returns:      Filtered dataset where the question in each entry\n",
    "                  contains all the words in the given 'words' list.\n",
    "'''\n",
    "def contains_filter(data, words):\n",
    "    filter = lambda x: all(word.lower() in x.lower() for word in words)\n",
    "    filtered_data = data[data.Question.apply(filter)]\n",
    "    contains_filter_toStr(words, filtered_data.shape[0], filtered_data)\n",
    "    #print(data[data.Question.apply(filter)].Question.head())\n",
    "    return filtered_data"
   ]
  },
  {
   "cell_type": "code",
   "execution_count": 4,
   "metadata": {},
   "outputs": [
    {
     "name": "stdout",
     "output_type": "stream",
     "text": [
      "Number of Questions that contain the word(s) 'King' and 'England': 152\n",
      "\n",
      "Examples: \n",
      "--------\n",
      "\n",
      "\tBoth England's King George V & FDR put their stamp of approval on this \"King of Hobbies\"\n",
      "\n",
      "\tIn retaliation for Viking raids, this \"Unready\" king of England attacks Norse areas of the Isle of Man\n",
      "\n",
      "\tThis king of England beat the odds to trounce the French in the 1415 Battle of Agincourt\n",
      "\n",
      "\tThis Scotsman, the first Stuart king of England, was called \"The Wisest Fool in Christendom\"\n",
      "\n",
      "\tIt's the number that followed the last king of England named William\n",
      "\n",
      "\n",
      "\n",
      "\n",
      "RUN-TIME: --- 0.3371388912200928 SECONDS --- \n"
     ]
    }
   ],
   "source": [
    "import time\n",
    "\n",
    "time_sum = 0\n",
    "\n",
    "words = ['King', 'England']\n",
    "start_time = time.time()\n",
    "filtered_data = contains_filter(jeopardy, words)\n",
    "print('\\nRUN-TIME: --- %s SECONDS --- ' % (time.time() - start_time))"
   ]
  },
  {
   "cell_type": "markdown",
   "metadata": {},
   "source": [
    "3. Test your original function with a few different sets of words to try to find some ways your function breaks. Edit your function so it is more robust.\n",
    "\n",
    "   For example, think about capitalization. We probably want to find questions that contain the word `\"King\"` or `\"king\"`.\n",
    "   \n",
    "   You may also want to check to make sure you don't find rows that contain substrings of your given words. For example, our function found a question that didn't contain the word `\"king\"`, however it did contain the word `\"viking\"` &mdash; it found the `\"king\"` inside `\"viking\"`. Note that this also comes with some drawbacks &mdash; you would no longer find questions that contained words like `\"England's\"`."
   ]
  },
  {
   "cell_type": "code",
   "execution_count": 5,
   "metadata": {},
   "outputs": [],
   "source": [
    "'''\n",
    "  Name:         consists\n",
    "  Type:         bool\n",
    "  Description:  Used to determine if the phrase consists of\n",
    "                  the target word(s)\n",
    "  Parameters:   phrase => string to check for target word(s)\n",
    "                target => list of target words\n",
    "  Returns:      returns TRUE if phrase contains target word(s)\n",
    "                  or FALSE if phrase does not contain the \n",
    "                  target word(s)\n",
    "'''\n",
    "def consists(phrase, target):\n",
    "    consists_of = True\n",
    "    phrase = ' {} '.format(phrase)\n",
    "    for word in target:\n",
    "        if (not any(phrase.lower().__contains__(variation.lower())\n",
    "                    for variation in target[word])):\n",
    "            consists_of = False\n",
    "    return consists_of"
   ]
  },
  {
   "cell_type": "code",
   "execution_count": 6,
   "metadata": {},
   "outputs": [],
   "source": [
    "'''\n",
    "  Name:         gen_variation\n",
    "  Type:         string\n",
    "  Description:  Used to apply specific grammar (or punctuation) \n",
    "                to a word or input. Thereby generating a 'variation' \n",
    "                of that word or input.\n",
    "  Parameters:   word    => word or input to apply grammar to and \n",
    "                           generate variation of.\n",
    "                grammar => specific grammar (or punctuation) to apply \n",
    "                           to word or input\n",
    "  Returns:      Returns 'variation' of word or input with a specific\n",
    "                grammar (or punctuation) applied to it.\n",
    "'''\n",
    "def gen_variation(word, grammar):\n",
    "    if (len(grammar) == 2):\n",
    "        if (grammar[1] == ' '):\n",
    "            return grammar[0] + word\n",
    "        else:\n",
    "            return grammar[0] + word + grammar[1]\n",
    "    elif (len(grammar) == 1):\n",
    "        return word + grammar\n",
    "    else:\n",
    "        return word"
   ]
  },
  {
   "cell_type": "code",
   "execution_count": 7,
   "metadata": {},
   "outputs": [],
   "source": [
    "'''\n",
    "  Name:         gen_allVariations\n",
    "  Type:         Dictionary\n",
    "  Description:  Used to generate all the variations of a list of words \n",
    "                or inputs by applying all possible combinations of grammar\n",
    "                (or punctuation) to each word or input in the list.\n",
    "  Parameters:   words => list of words to generate all variations of\n",
    "  Returns:      Returns a dictionary, where the keys represent the \n",
    "                words we would like to generate all variations of \n",
    "                and the values are all the possible variations of\n",
    "                its respective word or input key.\n",
    "'''\n",
    "def gen_allVariations(words):\n",
    "    word_dict = {}\n",
    "    grammar_dict = { # grammar dictionary used to represent \n",
    "                     # all the possible punctuation marks\n",
    "         0: '',      1: '\\' ',    2: '\\'',\n",
    "         3: '\"',     4: '\" ',     5: ',',      \n",
    "         6: '.',     7: '!',      8: '?',      \n",
    "         9: '\"\"',   10: \"''\",    11: '( ',    \n",
    "        12: ')',    13: '()',    14: 's'\n",
    "    }\n",
    "    for word in words: # for loop to iterate through all the words in the\n",
    "                       # 'words' list\n",
    "        word_dict[word] = [' {} '.format(word)]\n",
    "        for key1 in grammar_dict: # nested for loop to iterate through all the\n",
    "                                  # possible punctuation marks and generate all\n",
    "                                  # the possible variations for each word or \n",
    "                                  # input\n",
    "            for key2 in grammar_dict:\n",
    "                if ((grammar_dict[key1] == '') and (grammar_dict[key2] == '')):\n",
    "                    continue\n",
    "                elif ((grammar_dict[key1] == 's') and (grammar_dict[key2] == 's')):\n",
    "                    continue\n",
    "                else:   \n",
    "                    newWord = gen_variation(word, grammar_dict[key1])\n",
    "                    newWord = gen_variation(newWord, grammar_dict[key2])\n",
    "                    word_dict[word].append(' {} '.format(newWord))\n",
    "    return word_dict"
   ]
  },
  {
   "cell_type": "code",
   "execution_count": 8,
   "metadata": {},
   "outputs": [],
   "source": [
    "'''\n",
    "  Name:         contains_filter_improved\n",
    "  Type:         Pandas DataFrame\n",
    "  Description:  Modified version of the contains_filter function\n",
    "                which finds all the questions that contain all the\n",
    "                words, or any variation of them, in the given\n",
    "                'words' list. Each variation applies a different\n",
    "                punctuation to it's respective word or input.\n",
    "                Filtered data does not include entries where the\n",
    "                words in the 'words' list are only featured as\n",
    "                substrings of other words (e.g. King vs Viking).\n",
    "  Parameters:   data  => dataframe to search through\n",
    "                words => list of words for which to filter the\n",
    "                         data by\n",
    "  Returns:      Returns filtered dataframe, where each value in\n",
    "                the 'Question' column contains all the words,\n",
    "                or any variation of them, in the given 'words'\n",
    "                list.\n",
    "'''\n",
    "def contains_filter_improved(data, words):\n",
    "    words_dict = gen_allVariations(words)\n",
    "    filter = lambda x: all(word.lower() in x.lower() for word in words) # Runs a pre-filter on the data to shorten the runtime\n",
    "                                                                        # of the more complex 'consists' filter by shortening the \n",
    "                                                                        # amount of entries the 'consists' filter has to scan through\n",
    "                                                                        # while including all the variations of the given words in the \n",
    "                                                                        # 'words' list.\n",
    "    filtered_data = data[data.Question.apply(filter)]\n",
    "    filtered_data = filtered_data[filtered_data.Question.apply(lambda x: consists(x, words_dict))]\n",
    "    contains_filter_toStr(words, filtered_data.shape[0], filtered_data)\n",
    "    return filtered_data"
   ]
  },
  {
   "cell_type": "code",
   "execution_count": 9,
   "metadata": {},
   "outputs": [
    {
     "name": "stdout",
     "output_type": "stream",
     "text": [
      "Number of Questions that contain the word(s) 'King' and 'England': 128\n",
      "\n",
      "Examples: \n",
      "--------\n",
      "\n",
      "\tBoth England's King George V & FDR put their stamp of approval on this \"King of Hobbies\"\n",
      "\n",
      "\tIn retaliation for Viking raids, this \"Unready\" king of England attacks Norse areas of the Isle of Man\n",
      "\n",
      "\tThis king of England beat the odds to trounce the French in the 1415 Battle of Agincourt\n",
      "\n",
      "\tThis Scotsman, the first Stuart king of England, was called \"The Wisest Fool in Christendom\"\n",
      "\n",
      "\tIt's the number that followed the last king of England named William\n",
      "\n",
      "\n",
      "\n",
      "Number of Questions that contain the word(s) 'Norse' and 'God': 54\n",
      "\n",
      "Examples: \n",
      "--------\n",
      "\n",
      "\tThis Norse god known for his great strength was a protector of peasants & farmers\n",
      "\n",
      "\tNamed for the top Norse god, this important port is Denmark's third-largest city\n",
      "\n",
      "\tThis Norse god led his brothers in an attack on Ymir, the first giant\n",
      "\n",
      "\tAsgard was home to the Norse gods & this most famous palace\n",
      "\n",
      "\tKnown as hump day, this day of the week is named for the Norse god of war\n",
      "\n",
      "\n",
      "\n"
     ]
    }
   ],
   "source": [
    "filtered_data = contains_filter_improved(jeopardy, words)\n",
    "words = ['Norse', 'God']\n",
    "filtered_data = contains_filter_improved(jeopardy, words)"
   ]
  },
  {
   "cell_type": "markdown",
   "metadata": {},
   "source": [
    "4. We may want to eventually compute aggregate statistics, like `.mean()` on the `\" Value\"` column. But right now, the values in that column are strings. Convert the`\" Value\"` column to floats. If you'd like to, you can create a new column with float values.\n",
    "\n",
    "   Now that you can filter the dataset of question, use your new column that contains the float values of each question to find the \"difficulty\" of certain topics. For example, what is the average value of questions that contain the word `\"King\"`?\n",
    "   \n",
    "   Make sure to use the dataset that contains the float values as the dataset you use in your filtering function."
   ]
  },
  {
   "cell_type": "code",
   "execution_count": 10,
   "metadata": {},
   "outputs": [
    {
     "name": "stdout",
     "output_type": "stream",
     "text": [
      "Number of Questions that contain the word(s) 'King': 2879\n",
      "\n",
      "Examples: \n",
      "--------\n",
      "\n",
      "\t<a href=\"http://www.j-archive.com/media/2004-12-31_DJ_26.mp3\">Ripped from today's headlines, he was a turtle king gone mad; Mack was the one good turtle who'd bring him down</a>\n",
      "\n",
      "\tBetween 1842 & 1885, he repeatedly revised his \"Idylls of the King\"\n",
      "\n",
      "\tRobin Quivers is the radio consort of this self-proclaimed  \"King of All Media\"\n",
      "\n",
      "\tA Norman could say, \"I'm the king of the motte-and-bailey style of\" this\n",
      "\n",
      "\tExamples of this TV format include \"Leave It to Beaver\" & \"The King of Queens\"\n",
      "\n",
      "\n",
      "\n",
      "Average value for questions containing the word 'King': 821.73\n"
     ]
    }
   ],
   "source": [
    "'''\n",
    "  Name:         toFloat\n",
    "  Type:         float\n",
    "  Description:  Used to convert the datatype of the\n",
    "                'Values' column in the jeopardy dataframe\n",
    "                from string to float\n",
    "  Parameters:   val => value in 'Values' column to convert to\n",
    "                       datatype 'float'\n",
    "  Returns:      value converted to datatype 'float'\n",
    "'''\n",
    "def toFloat(val):\n",
    "    newVal = val\n",
    "    if (not isinstance(val, float)):\n",
    "        if (isinstance(val, str)):\n",
    "            newVal = newVal.strip('$').replace(',', '')\n",
    "            newVal = float(newVal)\n",
    "        else:\n",
    "            newVal = float(newVal)\n",
    "    return newVal\n",
    "jeopardy.Value = jeopardy.Value.apply(lambda x: toFloat(x))\n",
    "print('Average value for questions containing the word \\'King\\': {}'.format(round(contains_filter_improved(jeopardy, ['King']).Value.mean()*100)/100))"
   ]
  },
  {
   "cell_type": "markdown",
   "metadata": {},
   "source": [
    "5. Write a function that returns the count of unique answers to all of the questions in a dataset. For example, after filtering the entire dataset to only questions containing the word `\"King\"`, we could then find all of the unique answers to those questions. The answer \"Henry VIII\" appeared 55 times and was the most common answer."
   ]
  },
  {
   "cell_type": "code",
   "execution_count": 11,
   "metadata": {},
   "outputs": [
    {
     "name": "stdout",
     "output_type": "stream",
     "text": [
      "Number of Questions that contain the word(s) 'King': 7409\n",
      "\n",
      "Examples: \n",
      "--------\n",
      "\n",
      "\tAround 100 A.D. Tacitus wrote a book on how this art of persuasive speaking had declined since Cicero\n",
      "\n",
      "\t<a href=\"http://www.j-archive.com/media/2004-12-31_DJ_26.mp3\">Ripped from today's headlines, he was a turtle king gone mad; Mack was the one good turtle who'd bring him down</a>\n",
      "\n",
      "\t<a href=\"http://www.j-archive.com/media/2004-12-31_DJ_24.mp3\">\"500 Hats\"... 500 ways to die.  On July 4th, this young boy will defy a king... & become a legend</a>\n",
      "\n",
      "\tIt's the largest kingdom in the United Kingdom\n",
      "\n",
      "\tIn this kid's game, you bounce a small rubber ball while picking up 6-pronged metal objects\n",
      "\n",
      "\n",
      "\n",
      "Number of questions where 'Henry VIII' was the answer: 55\n"
     ]
    }
   ],
   "source": [
    "'''\n",
    "  Name:         unique_count\n",
    "  Type:         int\n",
    "  Description:  Sorts the given dataset by its 'answer' column and\n",
    "                returns the number of questions each unique answer\n",
    "                applies to.\n",
    "  Parameters:   dataset       => dataset to sort\n",
    "                questions_col => name of the dataset's 'questions' column\n",
    "                answers_col   => name of the dataset's 'answers' column\n",
    "  Returns:      Returns a new dataset that represents the unique answers\n",
    "                in the given dataset's 'answers' column and the number of \n",
    "                questions each answer applies to.\n",
    "'''\n",
    "def unique_count(dataset, questions_col, answers_col):\n",
    "    count = dataset.groupby(answers_col)[questions_col].count()\n",
    "    return count\n",
    "\n",
    "king_data = contains_filter(jeopardy, ['King'])\n",
    "print('Number of questions where \\'Henry VIII\\' was the answer: {}'.format(unique_count(king_data, 'Question', 'Answer')['Henry VIII']))"
   ]
  }
 ],
 "metadata": {
  "kernelspec": {
   "display_name": "Python 3 (ipykernel)",
   "language": "python",
   "name": "python3"
  },
  "language_info": {
   "codemirror_mode": {
    "name": "ipython",
    "version": 3
   },
   "file_extension": ".py",
   "mimetype": "text/x-python",
   "name": "python",
   "nbconvert_exporter": "python",
   "pygments_lexer": "ipython3",
   "version": "3.11.5"
  }
 },
 "nbformat": 4,
 "nbformat_minor": 4
}
